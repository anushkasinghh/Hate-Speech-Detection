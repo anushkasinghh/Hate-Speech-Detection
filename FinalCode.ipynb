{
  "nbformat": 4,
  "nbformat_minor": 5,
  "metadata": {
    "colab": {
      "name": "48_Anushka_Hate_Code.ipynb",
      "provenance": []
    },
    "kernelspec": {
      "display_name": "Python 3",
      "language": "python",
      "name": "python3"
    },
    "language_info": {
      "codemirror_mode": {
        "name": "ipython",
        "version": 3
      },
      "file_extension": ".py",
      "mimetype": "text/x-python",
      "name": "python",
      "nbconvert_exporter": "python",
      "pygments_lexer": "ipython3",
      "version": "3.8.2"
    }
  },
  "cells": [
    {
      "cell_type": "code",
      "metadata": {
        "colab": {
          "base_uri": "https://localhost:8080/"
        },
        "id": "139865d9",
        "outputId": "ba87f253-8d1a-456c-c463-7f8f806ea642"
      },
      "source": [
        "import pandas as pd\n",
        "import numpy as np \n",
        "import matplotlib.pyplot as plt\n",
        "from seaborn import heatmap\n",
        "from wordcloud import WordCloud\n",
        "from sklearn.pipeline import Pipeline\n",
        "from sklearn.compose import ColumnTransformer\n",
        "from sklearn.preprocessing import OneHotEncoder\n",
        "\n",
        "# NLP Tools\n",
        "import re\n",
        "import nltk\n",
        "nltk.download('stopwords')\n",
        "from nltk.corpus import stopwords\n",
        "from nltk.stem.porter import PorterStemmer\n",
        "from sklearn.feature_extraction.text import CountVectorizer\n",
        "\n",
        "# TrainSplit and Fit model\n",
        "from sklearn.model_selection import train_test_split\n",
        "from sklearn.ensemble import RandomForestClassifier\n",
        "from sklearn.linear_model import LogisticRegression\n",
        "from sklearn.neighbors import KNeighborsClassifier\n",
        "from sklearn.tree import DecisionTreeClassifier\n",
        "from nltk.tokenize import TweetTokenizer\n",
        "\n",
        "# model selection\n",
        "from sklearn.metrics import confusion_matrix, accuracy_score, plot_confusion_matrix, classification_report\n"
      ],
      "id": "139865d9",
      "execution_count": 1,
      "outputs": [
        {
          "output_type": "stream",
          "name": "stdout",
          "text": [
            "[nltk_data] Downloading package stopwords to /root/nltk_data...\n",
            "[nltk_data]   Unzipping corpora/stopwords.zip.\n"
          ]
        }
      ]
    },
    {
      "cell_type": "code",
      "metadata": {
        "id": "e7911fd1"
      },
      "source": [
        "ds = pd.read_csv('labeled_data.csv')"
      ],
      "id": "e7911fd1",
      "execution_count": 6,
      "outputs": []
    },
    {
      "cell_type": "code",
      "metadata": {
        "id": "52ace284",
        "scrolled": true,
        "colab": {
          "base_uri": "https://localhost:8080/",
          "height": 206
        },
        "outputId": "b90108ca-d3f2-4d6e-ffb5-bf3376223b5c"
      },
      "source": [
        "ds.head()"
      ],
      "id": "52ace284",
      "execution_count": 7,
      "outputs": [
        {
          "output_type": "execute_result",
          "data": {
            "text/html": [
              "\n",
              "  <div id=\"df-787d6855-4fc7-44b2-a836-932a3c510910\">\n",
              "    <div class=\"colab-df-container\">\n",
              "      <div>\n",
              "<style scoped>\n",
              "    .dataframe tbody tr th:only-of-type {\n",
              "        vertical-align: middle;\n",
              "    }\n",
              "\n",
              "    .dataframe tbody tr th {\n",
              "        vertical-align: top;\n",
              "    }\n",
              "\n",
              "    .dataframe thead th {\n",
              "        text-align: right;\n",
              "    }\n",
              "</style>\n",
              "<table border=\"1\" class=\"dataframe\">\n",
              "  <thead>\n",
              "    <tr style=\"text-align: right;\">\n",
              "      <th></th>\n",
              "      <th>Unnamed: 0</th>\n",
              "      <th>count</th>\n",
              "      <th>hate_speech</th>\n",
              "      <th>offensive_language</th>\n",
              "      <th>neither</th>\n",
              "      <th>class</th>\n",
              "      <th>tweet</th>\n",
              "    </tr>\n",
              "  </thead>\n",
              "  <tbody>\n",
              "    <tr>\n",
              "      <th>0</th>\n",
              "      <td>0</td>\n",
              "      <td>3</td>\n",
              "      <td>0</td>\n",
              "      <td>0</td>\n",
              "      <td>3</td>\n",
              "      <td>2</td>\n",
              "      <td>!!! RT @mayasolovely: As a woman you shouldn't...</td>\n",
              "    </tr>\n",
              "    <tr>\n",
              "      <th>1</th>\n",
              "      <td>1</td>\n",
              "      <td>3</td>\n",
              "      <td>0</td>\n",
              "      <td>3</td>\n",
              "      <td>0</td>\n",
              "      <td>1</td>\n",
              "      <td>!!!!! RT @mleew17: boy dats cold...tyga dwn ba...</td>\n",
              "    </tr>\n",
              "    <tr>\n",
              "      <th>2</th>\n",
              "      <td>2</td>\n",
              "      <td>3</td>\n",
              "      <td>0</td>\n",
              "      <td>3</td>\n",
              "      <td>0</td>\n",
              "      <td>1</td>\n",
              "      <td>!!!!!!! RT @UrKindOfBrand Dawg!!!! RT @80sbaby...</td>\n",
              "    </tr>\n",
              "    <tr>\n",
              "      <th>3</th>\n",
              "      <td>3</td>\n",
              "      <td>3</td>\n",
              "      <td>0</td>\n",
              "      <td>2</td>\n",
              "      <td>1</td>\n",
              "      <td>1</td>\n",
              "      <td>!!!!!!!!! RT @C_G_Anderson: @viva_based she lo...</td>\n",
              "    </tr>\n",
              "    <tr>\n",
              "      <th>4</th>\n",
              "      <td>4</td>\n",
              "      <td>6</td>\n",
              "      <td>0</td>\n",
              "      <td>6</td>\n",
              "      <td>0</td>\n",
              "      <td>1</td>\n",
              "      <td>!!!!!!!!!!!!! RT @ShenikaRoberts: The shit you...</td>\n",
              "    </tr>\n",
              "  </tbody>\n",
              "</table>\n",
              "</div>\n",
              "      <button class=\"colab-df-convert\" onclick=\"convertToInteractive('df-787d6855-4fc7-44b2-a836-932a3c510910')\"\n",
              "              title=\"Convert this dataframe to an interactive table.\"\n",
              "              style=\"display:none;\">\n",
              "        \n",
              "  <svg xmlns=\"http://www.w3.org/2000/svg\" height=\"24px\"viewBox=\"0 0 24 24\"\n",
              "       width=\"24px\">\n",
              "    <path d=\"M0 0h24v24H0V0z\" fill=\"none\"/>\n",
              "    <path d=\"M18.56 5.44l.94 2.06.94-2.06 2.06-.94-2.06-.94-.94-2.06-.94 2.06-2.06.94zm-11 1L8.5 8.5l.94-2.06 2.06-.94-2.06-.94L8.5 2.5l-.94 2.06-2.06.94zm10 10l.94 2.06.94-2.06 2.06-.94-2.06-.94-.94-2.06-.94 2.06-2.06.94z\"/><path d=\"M17.41 7.96l-1.37-1.37c-.4-.4-.92-.59-1.43-.59-.52 0-1.04.2-1.43.59L10.3 9.45l-7.72 7.72c-.78.78-.78 2.05 0 2.83L4 21.41c.39.39.9.59 1.41.59.51 0 1.02-.2 1.41-.59l7.78-7.78 2.81-2.81c.8-.78.8-2.07 0-2.86zM5.41 20L4 18.59l7.72-7.72 1.47 1.35L5.41 20z\"/>\n",
              "  </svg>\n",
              "      </button>\n",
              "      \n",
              "  <style>\n",
              "    .colab-df-container {\n",
              "      display:flex;\n",
              "      flex-wrap:wrap;\n",
              "      gap: 12px;\n",
              "    }\n",
              "\n",
              "    .colab-df-convert {\n",
              "      background-color: #E8F0FE;\n",
              "      border: none;\n",
              "      border-radius: 50%;\n",
              "      cursor: pointer;\n",
              "      display: none;\n",
              "      fill: #1967D2;\n",
              "      height: 32px;\n",
              "      padding: 0 0 0 0;\n",
              "      width: 32px;\n",
              "    }\n",
              "\n",
              "    .colab-df-convert:hover {\n",
              "      background-color: #E2EBFA;\n",
              "      box-shadow: 0px 1px 2px rgba(60, 64, 67, 0.3), 0px 1px 3px 1px rgba(60, 64, 67, 0.15);\n",
              "      fill: #174EA6;\n",
              "    }\n",
              "\n",
              "    [theme=dark] .colab-df-convert {\n",
              "      background-color: #3B4455;\n",
              "      fill: #D2E3FC;\n",
              "    }\n",
              "\n",
              "    [theme=dark] .colab-df-convert:hover {\n",
              "      background-color: #434B5C;\n",
              "      box-shadow: 0px 1px 3px 1px rgba(0, 0, 0, 0.15);\n",
              "      filter: drop-shadow(0px 1px 2px rgba(0, 0, 0, 0.3));\n",
              "      fill: #FFFFFF;\n",
              "    }\n",
              "  </style>\n",
              "\n",
              "      <script>\n",
              "        const buttonEl =\n",
              "          document.querySelector('#df-787d6855-4fc7-44b2-a836-932a3c510910 button.colab-df-convert');\n",
              "        buttonEl.style.display =\n",
              "          google.colab.kernel.accessAllowed ? 'block' : 'none';\n",
              "\n",
              "        async function convertToInteractive(key) {\n",
              "          const element = document.querySelector('#df-787d6855-4fc7-44b2-a836-932a3c510910');\n",
              "          const dataTable =\n",
              "            await google.colab.kernel.invokeFunction('convertToInteractive',\n",
              "                                                     [key], {});\n",
              "          if (!dataTable) return;\n",
              "\n",
              "          const docLinkHtml = 'Like what you see? Visit the ' +\n",
              "            '<a target=\"_blank\" href=https://colab.research.google.com/notebooks/data_table.ipynb>data table notebook</a>'\n",
              "            + ' to learn more about interactive tables.';\n",
              "          element.innerHTML = '';\n",
              "          dataTable['output_type'] = 'display_data';\n",
              "          await google.colab.output.renderOutput(dataTable, element);\n",
              "          const docLink = document.createElement('div');\n",
              "          docLink.innerHTML = docLinkHtml;\n",
              "          element.appendChild(docLink);\n",
              "        }\n",
              "      </script>\n",
              "    </div>\n",
              "  </div>\n",
              "  "
            ],
            "text/plain": [
              "   Unnamed: 0  count  ...  class                                              tweet\n",
              "0           0      3  ...      2  !!! RT @mayasolovely: As a woman you shouldn't...\n",
              "1           1      3  ...      1  !!!!! RT @mleew17: boy dats cold...tyga dwn ba...\n",
              "2           2      3  ...      1  !!!!!!! RT @UrKindOfBrand Dawg!!!! RT @80sbaby...\n",
              "3           3      3  ...      1  !!!!!!!!! RT @C_G_Anderson: @viva_based she lo...\n",
              "4           4      6  ...      1  !!!!!!!!!!!!! RT @ShenikaRoberts: The shit you...\n",
              "\n",
              "[5 rows x 7 columns]"
            ]
          },
          "metadata": {},
          "execution_count": 7
        }
      ]
    },
    {
      "cell_type": "code",
      "metadata": {
        "id": "62c18be3",
        "colab": {
          "base_uri": "https://localhost:8080/"
        },
        "outputId": "8b425424-ac98-4c3a-d30e-bfb7ca2a77a7"
      },
      "source": [
        "ds.info()"
      ],
      "id": "62c18be3",
      "execution_count": 8,
      "outputs": [
        {
          "output_type": "stream",
          "name": "stdout",
          "text": [
            "<class 'pandas.core.frame.DataFrame'>\n",
            "RangeIndex: 24783 entries, 0 to 24782\n",
            "Data columns (total 7 columns):\n",
            " #   Column              Non-Null Count  Dtype \n",
            "---  ------              --------------  ----- \n",
            " 0   Unnamed: 0          24783 non-null  int64 \n",
            " 1   count               24783 non-null  int64 \n",
            " 2   hate_speech         24783 non-null  int64 \n",
            " 3   offensive_language  24783 non-null  int64 \n",
            " 4   neither             24783 non-null  int64 \n",
            " 5   class               24783 non-null  int64 \n",
            " 6   tweet               24783 non-null  object\n",
            "dtypes: int64(6), object(1)\n",
            "memory usage: 1.3+ MB\n"
          ]
        }
      ]
    },
    {
      "cell_type": "code",
      "metadata": {
        "id": "1cbfd8c4",
        "colab": {
          "base_uri": "https://localhost:8080/",
          "height": 238
        },
        "outputId": "909417c7-34e7-4621-e4ed-6cfb7df44f6d"
      },
      "source": [
        "ds.describe().T"
      ],
      "id": "1cbfd8c4",
      "execution_count": 9,
      "outputs": [
        {
          "output_type": "execute_result",
          "data": {
            "text/html": [
              "\n",
              "  <div id=\"df-5055584e-e640-4ae3-9120-ad541c6489df\">\n",
              "    <div class=\"colab-df-container\">\n",
              "      <div>\n",
              "<style scoped>\n",
              "    .dataframe tbody tr th:only-of-type {\n",
              "        vertical-align: middle;\n",
              "    }\n",
              "\n",
              "    .dataframe tbody tr th {\n",
              "        vertical-align: top;\n",
              "    }\n",
              "\n",
              "    .dataframe thead th {\n",
              "        text-align: right;\n",
              "    }\n",
              "</style>\n",
              "<table border=\"1\" class=\"dataframe\">\n",
              "  <thead>\n",
              "    <tr style=\"text-align: right;\">\n",
              "      <th></th>\n",
              "      <th>count</th>\n",
              "      <th>mean</th>\n",
              "      <th>std</th>\n",
              "      <th>min</th>\n",
              "      <th>25%</th>\n",
              "      <th>50%</th>\n",
              "      <th>75%</th>\n",
              "      <th>max</th>\n",
              "    </tr>\n",
              "  </thead>\n",
              "  <tbody>\n",
              "    <tr>\n",
              "      <th>Unnamed: 0</th>\n",
              "      <td>24783.0</td>\n",
              "      <td>12681.192027</td>\n",
              "      <td>7299.553863</td>\n",
              "      <td>0.0</td>\n",
              "      <td>6372.5</td>\n",
              "      <td>12703.0</td>\n",
              "      <td>18995.5</td>\n",
              "      <td>25296.0</td>\n",
              "    </tr>\n",
              "    <tr>\n",
              "      <th>count</th>\n",
              "      <td>24783.0</td>\n",
              "      <td>3.243473</td>\n",
              "      <td>0.883060</td>\n",
              "      <td>3.0</td>\n",
              "      <td>3.0</td>\n",
              "      <td>3.0</td>\n",
              "      <td>3.0</td>\n",
              "      <td>9.0</td>\n",
              "    </tr>\n",
              "    <tr>\n",
              "      <th>hate_speech</th>\n",
              "      <td>24783.0</td>\n",
              "      <td>0.280515</td>\n",
              "      <td>0.631851</td>\n",
              "      <td>0.0</td>\n",
              "      <td>0.0</td>\n",
              "      <td>0.0</td>\n",
              "      <td>0.0</td>\n",
              "      <td>7.0</td>\n",
              "    </tr>\n",
              "    <tr>\n",
              "      <th>offensive_language</th>\n",
              "      <td>24783.0</td>\n",
              "      <td>2.413711</td>\n",
              "      <td>1.399459</td>\n",
              "      <td>0.0</td>\n",
              "      <td>2.0</td>\n",
              "      <td>3.0</td>\n",
              "      <td>3.0</td>\n",
              "      <td>9.0</td>\n",
              "    </tr>\n",
              "    <tr>\n",
              "      <th>neither</th>\n",
              "      <td>24783.0</td>\n",
              "      <td>0.549247</td>\n",
              "      <td>1.113299</td>\n",
              "      <td>0.0</td>\n",
              "      <td>0.0</td>\n",
              "      <td>0.0</td>\n",
              "      <td>0.0</td>\n",
              "      <td>9.0</td>\n",
              "    </tr>\n",
              "    <tr>\n",
              "      <th>class</th>\n",
              "      <td>24783.0</td>\n",
              "      <td>1.110277</td>\n",
              "      <td>0.462089</td>\n",
              "      <td>0.0</td>\n",
              "      <td>1.0</td>\n",
              "      <td>1.0</td>\n",
              "      <td>1.0</td>\n",
              "      <td>2.0</td>\n",
              "    </tr>\n",
              "  </tbody>\n",
              "</table>\n",
              "</div>\n",
              "      <button class=\"colab-df-convert\" onclick=\"convertToInteractive('df-5055584e-e640-4ae3-9120-ad541c6489df')\"\n",
              "              title=\"Convert this dataframe to an interactive table.\"\n",
              "              style=\"display:none;\">\n",
              "        \n",
              "  <svg xmlns=\"http://www.w3.org/2000/svg\" height=\"24px\"viewBox=\"0 0 24 24\"\n",
              "       width=\"24px\">\n",
              "    <path d=\"M0 0h24v24H0V0z\" fill=\"none\"/>\n",
              "    <path d=\"M18.56 5.44l.94 2.06.94-2.06 2.06-.94-2.06-.94-.94-2.06-.94 2.06-2.06.94zm-11 1L8.5 8.5l.94-2.06 2.06-.94-2.06-.94L8.5 2.5l-.94 2.06-2.06.94zm10 10l.94 2.06.94-2.06 2.06-.94-2.06-.94-.94-2.06-.94 2.06-2.06.94z\"/><path d=\"M17.41 7.96l-1.37-1.37c-.4-.4-.92-.59-1.43-.59-.52 0-1.04.2-1.43.59L10.3 9.45l-7.72 7.72c-.78.78-.78 2.05 0 2.83L4 21.41c.39.39.9.59 1.41.59.51 0 1.02-.2 1.41-.59l7.78-7.78 2.81-2.81c.8-.78.8-2.07 0-2.86zM5.41 20L4 18.59l7.72-7.72 1.47 1.35L5.41 20z\"/>\n",
              "  </svg>\n",
              "      </button>\n",
              "      \n",
              "  <style>\n",
              "    .colab-df-container {\n",
              "      display:flex;\n",
              "      flex-wrap:wrap;\n",
              "      gap: 12px;\n",
              "    }\n",
              "\n",
              "    .colab-df-convert {\n",
              "      background-color: #E8F0FE;\n",
              "      border: none;\n",
              "      border-radius: 50%;\n",
              "      cursor: pointer;\n",
              "      display: none;\n",
              "      fill: #1967D2;\n",
              "      height: 32px;\n",
              "      padding: 0 0 0 0;\n",
              "      width: 32px;\n",
              "    }\n",
              "\n",
              "    .colab-df-convert:hover {\n",
              "      background-color: #E2EBFA;\n",
              "      box-shadow: 0px 1px 2px rgba(60, 64, 67, 0.3), 0px 1px 3px 1px rgba(60, 64, 67, 0.15);\n",
              "      fill: #174EA6;\n",
              "    }\n",
              "\n",
              "    [theme=dark] .colab-df-convert {\n",
              "      background-color: #3B4455;\n",
              "      fill: #D2E3FC;\n",
              "    }\n",
              "\n",
              "    [theme=dark] .colab-df-convert:hover {\n",
              "      background-color: #434B5C;\n",
              "      box-shadow: 0px 1px 3px 1px rgba(0, 0, 0, 0.15);\n",
              "      filter: drop-shadow(0px 1px 2px rgba(0, 0, 0, 0.3));\n",
              "      fill: #FFFFFF;\n",
              "    }\n",
              "  </style>\n",
              "\n",
              "      <script>\n",
              "        const buttonEl =\n",
              "          document.querySelector('#df-5055584e-e640-4ae3-9120-ad541c6489df button.colab-df-convert');\n",
              "        buttonEl.style.display =\n",
              "          google.colab.kernel.accessAllowed ? 'block' : 'none';\n",
              "\n",
              "        async function convertToInteractive(key) {\n",
              "          const element = document.querySelector('#df-5055584e-e640-4ae3-9120-ad541c6489df');\n",
              "          const dataTable =\n",
              "            await google.colab.kernel.invokeFunction('convertToInteractive',\n",
              "                                                     [key], {});\n",
              "          if (!dataTable) return;\n",
              "\n",
              "          const docLinkHtml = 'Like what you see? Visit the ' +\n",
              "            '<a target=\"_blank\" href=https://colab.research.google.com/notebooks/data_table.ipynb>data table notebook</a>'\n",
              "            + ' to learn more about interactive tables.';\n",
              "          element.innerHTML = '';\n",
              "          dataTable['output_type'] = 'display_data';\n",
              "          await google.colab.output.renderOutput(dataTable, element);\n",
              "          const docLink = document.createElement('div');\n",
              "          docLink.innerHTML = docLinkHtml;\n",
              "          element.appendChild(docLink);\n",
              "        }\n",
              "      </script>\n",
              "    </div>\n",
              "  </div>\n",
              "  "
            ],
            "text/plain": [
              "                      count          mean  ...      75%      max\n",
              "Unnamed: 0          24783.0  12681.192027  ...  18995.5  25296.0\n",
              "count               24783.0      3.243473  ...      3.0      9.0\n",
              "hate_speech         24783.0      0.280515  ...      0.0      7.0\n",
              "offensive_language  24783.0      2.413711  ...      3.0      9.0\n",
              "neither             24783.0      0.549247  ...      0.0      9.0\n",
              "class               24783.0      1.110277  ...      1.0      2.0\n",
              "\n",
              "[6 rows x 8 columns]"
            ]
          },
          "metadata": {},
          "execution_count": 9
        }
      ]
    },
    {
      "cell_type": "code",
      "metadata": {
        "colab": {
          "base_uri": "https://localhost:8080/",
          "height": 206
        },
        "id": "cb684140",
        "outputId": "376a0192-15eb-4340-d511-8fe495ce4c84"
      },
      "source": [
        "# class - 0 -> hate, 1-> offensive 2-> neither\n",
        "dt_transformed = ds[['class','tweet']]\n",
        "dt_transformed.tail()"
      ],
      "id": "cb684140",
      "execution_count": 10,
      "outputs": [
        {
          "output_type": "execute_result",
          "data": {
            "text/html": [
              "\n",
              "  <div id=\"df-06c664ca-d427-4844-b4cf-1e06dc6863b2\">\n",
              "    <div class=\"colab-df-container\">\n",
              "      <div>\n",
              "<style scoped>\n",
              "    .dataframe tbody tr th:only-of-type {\n",
              "        vertical-align: middle;\n",
              "    }\n",
              "\n",
              "    .dataframe tbody tr th {\n",
              "        vertical-align: top;\n",
              "    }\n",
              "\n",
              "    .dataframe thead th {\n",
              "        text-align: right;\n",
              "    }\n",
              "</style>\n",
              "<table border=\"1\" class=\"dataframe\">\n",
              "  <thead>\n",
              "    <tr style=\"text-align: right;\">\n",
              "      <th></th>\n",
              "      <th>class</th>\n",
              "      <th>tweet</th>\n",
              "    </tr>\n",
              "  </thead>\n",
              "  <tbody>\n",
              "    <tr>\n",
              "      <th>24778</th>\n",
              "      <td>1</td>\n",
              "      <td>you's a muthaf***in lie &amp;#8220;@LifeAsKing: @2...</td>\n",
              "    </tr>\n",
              "    <tr>\n",
              "      <th>24779</th>\n",
              "      <td>2</td>\n",
              "      <td>you've gone and broke the wrong heart baby, an...</td>\n",
              "    </tr>\n",
              "    <tr>\n",
              "      <th>24780</th>\n",
              "      <td>1</td>\n",
              "      <td>young buck wanna eat!!.. dat nigguh like I ain...</td>\n",
              "    </tr>\n",
              "    <tr>\n",
              "      <th>24781</th>\n",
              "      <td>1</td>\n",
              "      <td>youu got wild bitches tellin you lies</td>\n",
              "    </tr>\n",
              "    <tr>\n",
              "      <th>24782</th>\n",
              "      <td>2</td>\n",
              "      <td>~~Ruffled | Ntac Eileen Dahlia - Beautiful col...</td>\n",
              "    </tr>\n",
              "  </tbody>\n",
              "</table>\n",
              "</div>\n",
              "      <button class=\"colab-df-convert\" onclick=\"convertToInteractive('df-06c664ca-d427-4844-b4cf-1e06dc6863b2')\"\n",
              "              title=\"Convert this dataframe to an interactive table.\"\n",
              "              style=\"display:none;\">\n",
              "        \n",
              "  <svg xmlns=\"http://www.w3.org/2000/svg\" height=\"24px\"viewBox=\"0 0 24 24\"\n",
              "       width=\"24px\">\n",
              "    <path d=\"M0 0h24v24H0V0z\" fill=\"none\"/>\n",
              "    <path d=\"M18.56 5.44l.94 2.06.94-2.06 2.06-.94-2.06-.94-.94-2.06-.94 2.06-2.06.94zm-11 1L8.5 8.5l.94-2.06 2.06-.94-2.06-.94L8.5 2.5l-.94 2.06-2.06.94zm10 10l.94 2.06.94-2.06 2.06-.94-2.06-.94-.94-2.06-.94 2.06-2.06.94z\"/><path d=\"M17.41 7.96l-1.37-1.37c-.4-.4-.92-.59-1.43-.59-.52 0-1.04.2-1.43.59L10.3 9.45l-7.72 7.72c-.78.78-.78 2.05 0 2.83L4 21.41c.39.39.9.59 1.41.59.51 0 1.02-.2 1.41-.59l7.78-7.78 2.81-2.81c.8-.78.8-2.07 0-2.86zM5.41 20L4 18.59l7.72-7.72 1.47 1.35L5.41 20z\"/>\n",
              "  </svg>\n",
              "      </button>\n",
              "      \n",
              "  <style>\n",
              "    .colab-df-container {\n",
              "      display:flex;\n",
              "      flex-wrap:wrap;\n",
              "      gap: 12px;\n",
              "    }\n",
              "\n",
              "    .colab-df-convert {\n",
              "      background-color: #E8F0FE;\n",
              "      border: none;\n",
              "      border-radius: 50%;\n",
              "      cursor: pointer;\n",
              "      display: none;\n",
              "      fill: #1967D2;\n",
              "      height: 32px;\n",
              "      padding: 0 0 0 0;\n",
              "      width: 32px;\n",
              "    }\n",
              "\n",
              "    .colab-df-convert:hover {\n",
              "      background-color: #E2EBFA;\n",
              "      box-shadow: 0px 1px 2px rgba(60, 64, 67, 0.3), 0px 1px 3px 1px rgba(60, 64, 67, 0.15);\n",
              "      fill: #174EA6;\n",
              "    }\n",
              "\n",
              "    [theme=dark] .colab-df-convert {\n",
              "      background-color: #3B4455;\n",
              "      fill: #D2E3FC;\n",
              "    }\n",
              "\n",
              "    [theme=dark] .colab-df-convert:hover {\n",
              "      background-color: #434B5C;\n",
              "      box-shadow: 0px 1px 3px 1px rgba(0, 0, 0, 0.15);\n",
              "      filter: drop-shadow(0px 1px 2px rgba(0, 0, 0, 0.3));\n",
              "      fill: #FFFFFF;\n",
              "    }\n",
              "  </style>\n",
              "\n",
              "      <script>\n",
              "        const buttonEl =\n",
              "          document.querySelector('#df-06c664ca-d427-4844-b4cf-1e06dc6863b2 button.colab-df-convert');\n",
              "        buttonEl.style.display =\n",
              "          google.colab.kernel.accessAllowed ? 'block' : 'none';\n",
              "\n",
              "        async function convertToInteractive(key) {\n",
              "          const element = document.querySelector('#df-06c664ca-d427-4844-b4cf-1e06dc6863b2');\n",
              "          const dataTable =\n",
              "            await google.colab.kernel.invokeFunction('convertToInteractive',\n",
              "                                                     [key], {});\n",
              "          if (!dataTable) return;\n",
              "\n",
              "          const docLinkHtml = 'Like what you see? Visit the ' +\n",
              "            '<a target=\"_blank\" href=https://colab.research.google.com/notebooks/data_table.ipynb>data table notebook</a>'\n",
              "            + ' to learn more about interactive tables.';\n",
              "          element.innerHTML = '';\n",
              "          dataTable['output_type'] = 'display_data';\n",
              "          await google.colab.output.renderOutput(dataTable, element);\n",
              "          const docLink = document.createElement('div');\n",
              "          docLink.innerHTML = docLinkHtml;\n",
              "          element.appendChild(docLink);\n",
              "        }\n",
              "      </script>\n",
              "    </div>\n",
              "  </div>\n",
              "  "
            ],
            "text/plain": [
              "       class                                              tweet\n",
              "24778      1  you's a muthaf***in lie &#8220;@LifeAsKing: @2...\n",
              "24779      2  you've gone and broke the wrong heart baby, an...\n",
              "24780      1  young buck wanna eat!!.. dat nigguh like I ain...\n",
              "24781      1              youu got wild bitches tellin you lies\n",
              "24782      2  ~~Ruffled | Ntac Eileen Dahlia - Beautiful col..."
            ]
          },
          "metadata": {},
          "execution_count": 10
        }
      ]
    },
    {
      "cell_type": "code",
      "metadata": {
        "colab": {
          "base_uri": "https://localhost:8080/"
        },
        "id": "9961f4b0",
        "outputId": "196f8983-1ade-48dd-9ac6-04cc9da6d78e"
      },
      "source": [
        "y = (dt_transformed.iloc[::-1].values).ravel()\n",
        "y"
      ],
      "id": "9961f4b0",
      "execution_count": 11,
      "outputs": [
        {
          "output_type": "execute_result",
          "data": {
            "text/plain": [
              "array([2,\n",
              "       '~~Ruffled | Ntac Eileen Dahlia - Beautiful color combination of pink, orange, yellow &amp; white. A Coll http://t.co/H0dYEBvnZB',\n",
              "       1, ...,\n",
              "       '!!!!! RT @mleew17: boy dats cold...tyga dwn bad for cuffin dat hoe in the 1st place!!',\n",
              "       2,\n",
              "       \"!!! RT @mayasolovely: As a woman you shouldn't complain about cleaning up your house. &amp; as a man you should always take the trash out...\"],\n",
              "      dtype=object)"
            ]
          },
          "metadata": {},
          "execution_count": 11
        }
      ]
    },
    {
      "cell_type": "code",
      "metadata": {
        "id": "c5c59f7c"
      },
      "source": [
        "df_train,df_test = train_test_split(dt_transformed,test_size = 0.10, random_state = 42,stratify=dt_transformed['class'])"
      ],
      "id": "c5c59f7c",
      "execution_count": 12,
      "outputs": []
    },
    {
      "cell_type": "code",
      "metadata": {
        "colab": {
          "base_uri": "https://localhost:8080/"
        },
        "id": "ef31ef64",
        "outputId": "0bd9d117-f800-4320-f587-94f43fdfb6c9"
      },
      "source": [
        "df_train.shape, df_test.shape"
      ],
      "id": "ef31ef64",
      "execution_count": 13,
      "outputs": [
        {
          "output_type": "execute_result",
          "data": {
            "text/plain": [
              "((22304, 2), (2479, 2))"
            ]
          },
          "metadata": {},
          "execution_count": 13
        }
      ]
    },
    {
      "cell_type": "code",
      "metadata": {
        "id": "dad8174a"
      },
      "source": [
        "# dividing df into training and validation set\n",
        "df_train, df_val = train_test_split(df_train, test_size=0.10,random_state=42, stratify=df_train['class'])"
      ],
      "id": "dad8174a",
      "execution_count": 14,
      "outputs": []
    },
    {
      "cell_type": "code",
      "metadata": {
        "colab": {
          "base_uri": "https://localhost:8080/"
        },
        "id": "0bc31a75",
        "outputId": "d42d5740-ed9d-45df-f1e6-34edbc444877"
      },
      "source": [
        "df_train.shape, df_val.shape"
      ],
      "id": "0bc31a75",
      "execution_count": 15,
      "outputs": [
        {
          "output_type": "execute_result",
          "data": {
            "text/plain": [
              "((20073, 2), (2231, 2))"
            ]
          },
          "metadata": {},
          "execution_count": 15
        }
      ]
    },
    {
      "cell_type": "code",
      "metadata": {
        "colab": {
          "base_uri": "https://localhost:8080/",
          "height": 279
        },
        "id": "41982a36",
        "outputId": "431abe12-71ae-428e-958b-21b7ffc041eb"
      },
      "source": [
        "df_train['class'].value_counts().plot(kind='bar')"
      ],
      "id": "41982a36",
      "execution_count": 16,
      "outputs": [
        {
          "output_type": "execute_result",
          "data": {
            "text/plain": [
              "<matplotlib.axes._subplots.AxesSubplot at 0x7f23079bbd90>"
            ]
          },
          "metadata": {},
          "execution_count": 16
        },
        {
          "output_type": "display_data",
          "data": {
            "image/png": "[encoded data removed]",
            "text/plain": [
              "<Figure size 432x288 with 1 Axes>"
            ]
          },
          "metadata": {
            "needs_background": "light"
          }
        }
      ]
    },
    {
      "cell_type": "code",
      "metadata": {
        "id": "3591413a"
      },
      "source": [
        "# CLEANING THE TEXTS\n"
      ],
      "id": "3591413a",
      "execution_count": 17,
      "outputs": []
    },
    {
      "cell_type": "code",
      "metadata": {
        "id": "2e1ecb1e"
      },
      "source": [
        "def preprocessing(data):\n",
        "    stemmer = nltk.stem.RSLPStemmer()\n",
        "    all_stopwords = stopwords.words('english')\n",
        "    all_stopwords.remove('not')\n",
        "    corpus = []\n",
        "    for tweet in data:\n",
        "        review = re.sub(r\"@[A-Za-z0-9_]+\",\" \", tweet)\n",
        "        review = re.sub('RT', ' ', review)\n",
        "        review = re.sub(r\"https://[A-Za-z0-9./]+\", \" \", review)\n",
        "        review = re.sub(r\"https?\",\" \", review)\n",
        "        review = re.sub('[^a-zA-Z]',' ', review)\n",
        "        review = review.lower()\n",
        "        review = review.split()\n",
        "        ps = PorterStemmer()\n",
        "        review = [ps.stem(word) for word in review if not word in set(all_stopwords) if len(word)>2]\n",
        "        review = ' '.join(review)\n",
        "        corpus.append(review)\n",
        "    return np.array(corpus)"
      ],
      "id": "2e1ecb1e",
      "execution_count": 18,
      "outputs": []
    },
    {
      "cell_type": "code",
      "metadata": {
        "colab": {
          "base_uri": "https://localhost:8080/"
        },
        "id": "169bce25",
        "outputId": "789da02c-4fd3-4318-e818-e094703f99cd"
      },
      "source": [
        "nltk.download('rslp')"
      ],
      "id": "169bce25",
      "execution_count": 19,
      "outputs": [
        {
          "output_type": "stream",
          "name": "stdout",
          "text": [
            "[nltk_data] Downloading package rslp to /root/nltk_data...\n",
            "[nltk_data]   Unzipping stemmers/rslp.zip.\n"
          ]
        },
        {
          "output_type": "execute_result",
          "data": {
            "text/plain": [
              "True"
            ]
          },
          "metadata": {},
          "execution_count": 19
        }
      ]
    },
    {
      "cell_type": "code",
      "metadata": {
        "id": "161e5a42"
      },
      "source": [
        "c_train = preprocessing(df_train['tweet'].values)\n",
        "c_val = preprocessing(df_val['tweet'].values)"
      ],
      "id": "161e5a42",
      "execution_count": 20,
      "outputs": []
    },
    {
      "cell_type": "code",
      "metadata": {
        "colab": {
          "base_uri": "https://localhost:8080/"
        },
        "id": "ecce4a7c",
        "outputId": "e9bdb511-f077-4680-a2f9-d0fcce490b2e"
      },
      "source": [
        "c_train[0:10],c_val[0:10]"
      ],
      "id": "ecce4a7c",
      "execution_count": 21,
      "outputs": [
        {
          "output_type": "execute_result",
          "data": {
            "text/plain": [
              "(array(['stop hoe', 'nation know rather real nigger amp bad bitch tnhxzaf',\n",
              "        'slander exist make cum everi bad thing say regist cuz got pussi',\n",
              "        'dish texa trash talk pt racist mayb gbush apolog sin hide',\n",
              "        'one charlott store cours faggot',\n",
              "        'makeup call cheek call bitch spot lmao',\n",
              "        'porn android iphon ipad sex xxx oldyoung old bitch pleas hot look young stud aidkdmztln',\n",
              "        'pussi', 'guy tweet shit get bunch favorit level hoe',\n",
              "        'let support nicca matter'], dtype='<U124'),\n",
              " array(['isi support america jihadi next door aimv gib ajuau ywiv',\n",
              "        'class ghetto hell',\n",
              "        'christianbal kiss mose ass fight god otherwis might fuck dead retard ass actor faggot',\n",
              "        'hoe fuck want seem like hoe gotta hit low',\n",
              "        'goauch monkey oldpaint vinyl jazz loung hueh hcxx',\n",
              "        'rememb bitch wouldnt let nigga fuck like month day',\n",
              "        'pull panti teeth write alphabet tongu throb pussi',\n",
              "        'boyfriend brother drop pick bitch fast food job long promis free meal',\n",
              "        'lil bitti bitch lingo',\n",
              "        'bitch work hour day protect freedom fuck alwaysonwatch globalforceforgood'],\n",
              "       dtype='<U106'))"
            ]
          },
          "metadata": {},
          "execution_count": 21
        }
      ]
    },
    {
      "cell_type": "code",
      "metadata": {
        "id": "2eb87796"
      },
      "source": [
        "# Extracting features using tokenization"
      ],
      "id": "2eb87796",
      "execution_count": 22,
      "outputs": []
    },
    {
      "cell_type": "code",
      "metadata": {
        "id": "e997d171"
      },
      "source": [
        "tweet_tokenizer = TweetTokenizer()\n",
        "vectorizer = CountVectorizer(analyzer = \"word\", tokenizer = tweet_tokenizer.tokenize, max_features = 1010)\n",
        "def tokenize(corpus, flag = 0):\n",
        "#    flag = 1 for train\n",
        "    if flag :\n",
        "        return vectorizer.fit_transform(corpus).toarray()\n",
        "    return vectorizer.transform(corpus).toarray()"
      ],
      "id": "e997d171",
      "execution_count": 23,
      "outputs": []
    },
    {
      "cell_type": "code",
      "metadata": {
        "colab": {
          "base_uri": "https://localhost:8080/"
        },
        "id": "e6a4432b",
        "scrolled": true,
        "outputId": "0eeff5e9-db2d-421d-b7e4-f58289b0632c"
      },
      "source": [
        "X_train = tokenize(c_train, 1)\n",
        "X_val = tokenize(c_val, 0)\n",
        "y_train = df_train['class'].values\n",
        "y_val = df_val['class'].values\n",
        "X_train.shape, y_train.shape"
      ],
      "id": "e6a4432b",
      "execution_count": 24,
      "outputs": [
        {
          "output_type": "execute_result",
          "data": {
            "text/plain": [
              "((20073, 1010), (20073,))"
            ]
          },
          "metadata": {},
          "execution_count": 24
        }
      ]
    },
    {
      "cell_type": "code",
      "metadata": {
        "id": "715ed37c"
      },
      "source": [
        "# Logistic Regression\n",
        "model = LogisticRegression(multi_class = 'ovr', solver = 'liblinear', random_state = 42)\n",
        "model.fit(X_train, y_train.ravel())\n",
        "y_hat = model.predict(X_val)"
      ],
      "id": "715ed37c",
      "execution_count": 25,
      "outputs": []
    },
    {
      "cell_type": "code",
      "metadata": {
        "id": "334c6acf"
      },
      "source": [
        "def set_confusion_matrix(clf, X, y, title):\n",
        "    plot_confusion_matrix(clf, X, y)\n",
        "    plt.title(title)\n",
        "    plt.show()"
      ],
      "id": "334c6acf",
      "execution_count": 26,
      "outputs": []
    },
    {
      "cell_type": "code",
      "metadata": {
        "colab": {
          "base_uri": "https://localhost:8080/",
          "height": 350
        },
        "id": "1b44f155",
        "outputId": "dffe1f8c-a77b-49ac-8e4d-253a71d9e18f"
      },
      "source": [
        "set_confusion_matrix(model,X_val, y_val, type(model).__name__)"
      ],
      "id": "1b44f155",
      "execution_count": 27,
      "outputs": [
        {
          "output_type": "stream",
          "name": "stderr",
          "text": [
            "/usr/local/lib/python3.7/dist-packages/sklearn/utils/deprecation.py:87: FutureWarning: Function plot_confusion_matrix is deprecated; Function `plot_confusion_matrix` is deprecated in 1.0 and will be removed in 1.2. Use one of the class methods: ConfusionMatrixDisplay.from_predictions or ConfusionMatrixDisplay.from_estimator.\n",
            "  warnings.warn(msg, category=FutureWarning)\n"
          ]
        },
        {
          "output_type": "display_data",
          "data": {
            "image/png": "[encoded data removed]",
            "text/plain": [
              "<Figure size 432x288 with 2 Axes>"
            ]
          },
          "metadata": {
            "needs_background": "light"
          }
        }
      ]
    },
    {
      "cell_type": "code",
      "metadata": {
        "colab": {
          "base_uri": "https://localhost:8080/"
        },
        "id": "0c724e1a",
        "outputId": "64135f15-a4cd-4d5d-a875-4534b2bbc536"
      },
      "source": [
        "target_names = ['class 0', 'class 1', 'class 2']\n",
        "print(classification_report(y_val, y_hat, target_names = target_names))"
      ],
      "id": "0c724e1a",
      "execution_count": 28,
      "outputs": [
        {
          "output_type": "stream",
          "name": "stdout",
          "text": [
            "              precision    recall  f1-score   support\n",
            "\n",
            "     class 0       0.43      0.20      0.27       129\n",
            "     class 1       0.93      0.95      0.94      1727\n",
            "     class 2       0.83      0.91      0.87       375\n",
            "\n",
            "    accuracy                           0.90      2231\n",
            "   macro avg       0.73      0.69      0.69      2231\n",
            "weighted avg       0.89      0.90      0.89      2231\n",
            "\n"
          ]
        }
      ]
    },
    {
      "cell_type": "code",
      "metadata": {
        "id": "8f4077e3"
      },
      "source": [
        "# Analyzing words of each class"
      ],
      "id": "8f4077e3",
      "execution_count": 29,
      "outputs": []
    },
    {
      "cell_type": "code",
      "metadata": {
        "id": "40b2a7c2"
      },
      "source": [
        "set_ = c_train\n",
        "hate_tweets = [sentence for sentence, label in zip(set_,y) if label == 0]\n",
        "off_tweets = [sentence for sentence, label in zip(set_, y) if label == 1]\n",
        "none_tweets = [sentence for sentence, label in zip(set_, y) if label == 2]"
      ],
      "id": "40b2a7c2",
      "execution_count": 30,
      "outputs": []
    },
    {
      "cell_type": "code",
      "metadata": {
        "id": "351b696c"
      },
      "source": [
        "hate_words = ' '.join(hate_tweets)\n",
        "off_words = ' '.join(off_tweets)\n",
        "none_words = ' '.join(none_tweets)"
      ],
      "id": "351b696c",
      "execution_count": 31,
      "outputs": []
    },
    {
      "cell_type": "code",
      "metadata": {
        "id": "84bc6880"
      },
      "source": [
        "def get_wordcloud(text):\n",
        "#   Creating and generating word cloud image\n",
        "    wordcloud = WordCloud().generate(text)\n",
        "#   Displaying generated image\n",
        "    plt.imshow(wordcloud, interpolation = 'bilinear')\n",
        "    plt.axis(\"off\")\n",
        "    plt.show"
      ],
      "id": "84bc6880",
      "execution_count": 32,
      "outputs": []
    },
    {
      "cell_type": "code",
      "metadata": {
        "colab": {
          "base_uri": "https://localhost:8080/",
          "height": 198
        },
        "id": "1c8d86be",
        "outputId": "97e3852c-fcd2-43c8-bc47-68b0bad27d10"
      },
      "source": [
        "get_wordcloud(hate_words)"
      ],
      "id": "1c8d86be",
      "execution_count": 33,
      "outputs": [
        {
          "output_type": "display_data",
          "data": {
            "image/png": "[encoded data removed]",
            "text/plain": [
              "<Figure size 432x288 with 1 Axes>"
            ]
          },
          "metadata": {
            "needs_background": "light"
          }
        }
      ]
    },
    {
      "cell_type": "code",
      "metadata": {
        "colab": {
          "base_uri": "https://localhost:8080/",
          "height": 198
        },
        "id": "29ab13de",
        "outputId": "fb253af0-ac65-44be-a20d-daa049b7cf4d"
      },
      "source": [
        "get_wordcloud(off_words)"
      ],
      "id": "29ab13de",
      "execution_count": 34,
      "outputs": [
        {
          "output_type": "display_data",
          "data": {
            "image/png": "[encoded data removed]",
            "text/plain": [
              "<Figure size 432x288 with 1 Axes>"
            ]
          },
          "metadata": {
            "needs_background": "light"
          }
        }
      ]
    },
    {
      "cell_type": "code",
      "metadata": {
        "colab": {
          "base_uri": "https://localhost:8080/",
          "height": 198
        },
        "id": "e29f2b73",
        "outputId": "d96210e4-946a-4635-a7a7-5a2f0b93936f"
      },
      "source": [
        "get_wordcloud(none_words)"
      ],
      "id": "e29f2b73",
      "execution_count": 35,
      "outputs": [
        {
          "output_type": "display_data",
          "data": {
            "image/png": "[encoded data removed]",
            "text/plain": [
              "<Figure size 432x288 with 1 Axes>"
            ]
          },
          "metadata": {
            "needs_background": "light"
          }
        }
      ]
    },
    {
      "cell_type": "code",
      "metadata": {
        "id": "5b5f71ad"
      },
      "source": [
        "def wordListToFreqDict(wordlist):\n",
        "    wordfreq = [(wordlist.count(p))/len(wordlist) for p in wordlist]\n",
        "    return dict(list(zip(wordlist, wordfreq)))"
      ],
      "id": "5b5f71ad",
      "execution_count": 36,
      "outputs": []
    },
    {
      "cell_type": "code",
      "metadata": {
        "id": "fa521901"
      },
      "source": [
        "def sortFreqDict(freqdict):\n",
        "    aux = [(freqdict[key], key) for key in freqdict]\n",
        "    aux.sort()\n",
        "    aux.reverse()\n",
        "    return aux"
      ],
      "id": "fa521901",
      "execution_count": 37,
      "outputs": []
    },
    {
      "cell_type": "code",
      "metadata": {
        "id": "eeabf6b8"
      },
      "source": [
        "hate_dict = sortFreqDict(wordListToFreqDict(hate_words.split()))\n",
        "off_dict = sortFreqDict(wordListToFreqDict(off_words.split()))\n",
        "none_dict = sortFreqDict(wordListToFreqDict(none_words.split()))"
      ],
      "id": "eeabf6b8",
      "execution_count": 38,
      "outputs": []
    },
    {
      "cell_type": "code",
      "metadata": {
        "colab": {
          "base_uri": "https://localhost:8080/"
        },
        "id": "817048c7",
        "outputId": "22fc191e-7584-476c-fb1d-5c71473182c1"
      },
      "source": [
        "len(hate_dict), len(off_dict), len(none_dict)"
      ],
      "id": "817048c7",
      "execution_count": 39,
      "outputs": [
        {
          "output_type": "execute_result",
          "data": {
            "text/plain": [
              "(1429, 9079, 3664)"
            ]
          },
          "metadata": {},
          "execution_count": 39
        }
      ]
    },
    {
      "cell_type": "code",
      "metadata": {
        "id": "e7aa432c"
      },
      "source": [
        "# Taking the words that appear the most in each class\n",
        "def get_common(wordlist, n):\n",
        "    return ([w[1] for w in wordlist])[:n]\n",
        "common_words = list()\n",
        "common_words.append(get_common(hate_dict, 2000))\n",
        "common_words.append(get_common(off_dict, 1000))\n",
        "common_words.append(get_common(none_dict, 1000))\n",
        "common_words = np.unique(np.hstack(common_words))"
      ],
      "id": "e7aa432c",
      "execution_count": 40,
      "outputs": []
    },
    {
      "cell_type": "code",
      "metadata": {
        "id": "927603a8"
      },
      "source": [
        "common_words_dict = ({i:j for i,j in zip(common_words, range(len(common_words)))})"
      ],
      "id": "927603a8",
      "execution_count": 41,
      "outputs": []
    },
    {
      "cell_type": "code",
      "metadata": {
        "colab": {
          "base_uri": "https://localhost:8080/"
        },
        "id": "7597856c",
        "outputId": "4ad7c8f1-ca89-4730-ef19-62e5a9e7f62d"
      },
      "source": [
        "X_train = tokenize(c_train, 1)\n",
        "X_val = tokenize(c_val, 0)\n",
        "X_train.shape, X_val.shape"
      ],
      "id": "7597856c",
      "execution_count": 42,
      "outputs": [
        {
          "output_type": "execute_result",
          "data": {
            "text/plain": [
              "((20073, 1010), (2231, 1010))"
            ]
          },
          "metadata": {},
          "execution_count": 42
        }
      ]
    },
    {
      "cell_type": "markdown",
      "metadata": {
        "id": "7566d204"
      },
      "source": [
        "UNDERSAMPLING - Changing the composition of a training dataset for an imbalanced classification task by over sampling minority class  "
      ],
      "id": "7566d204"
    },
    {
      "cell_type": "code",
      "metadata": {
        "colab": {
          "base_uri": "https://localhost:8080/"
        },
        "id": "bcf68da2",
        "outputId": "fbb6aa42-a2f4-4787-e48f-18fe42949f64"
      },
      "source": [
        "n_off, n_none, n_hate = df_train['class'].value_counts()\n",
        "n_off, n_none, n_hate"
      ],
      "id": "bcf68da2",
      "execution_count": 43,
      "outputs": [
        {
          "output_type": "execute_result",
          "data": {
            "text/plain": [
              "(15543, 3372, 1158)"
            ]
          },
          "metadata": {},
          "execution_count": 43
        }
      ]
    },
    {
      "cell_type": "code",
      "metadata": {
        "id": "1c385f41"
      },
      "source": [
        "df_hate = df_train[df_train['class'] == 0]\n",
        "df_off = df_train[df_train['class'] == 1]\n",
        "df_none = df_train[df_train['class'] == 2]"
      ],
      "id": "1c385f41",
      "execution_count": 44,
      "outputs": []
    },
    {
      "cell_type": "code",
      "metadata": {
        "colab": {
          "base_uri": "https://localhost:8080/",
          "height": 276
        },
        "id": "3274d9ca",
        "outputId": "aa2b7358-63b1-4480-cf98-7a13df936e77"
      },
      "source": [
        "df_off_under = df_off.sample(n_hate, random_state = 0)\n",
        "df_none_under = df_none.sample(n_hate, random_state = 0)\n",
        "df_under = pd.concat([df_hate, df_off_under, df_none_under], axis = 0)\n",
        "print(df_under['class'].value_counts())\n",
        "df_under.head()"
      ],
      "id": "3274d9ca",
      "execution_count": 45,
      "outputs": [
        {
          "output_type": "stream",
          "name": "stdout",
          "text": [
            "0    1158\n",
            "1    1158\n",
            "2    1158\n",
            "Name: class, dtype: int64\n"
          ]
        },
        {
          "output_type": "execute_result",
          "data": {
            "text/html": [
              "\n",
              "  <div id=\"df-8ed033a7-a5c1-4d27-802a-fb500f79bcf3\">\n",
              "    <div class=\"colab-df-container\">\n",
              "      <div>\n",
              "<style scoped>\n",
              "    .dataframe tbody tr th:only-of-type {\n",
              "        vertical-align: middle;\n",
              "    }\n",
              "\n",
              "    .dataframe tbody tr th {\n",
              "        vertical-align: top;\n",
              "    }\n",
              "\n",
              "    .dataframe thead th {\n",
              "        text-align: right;\n",
              "    }\n",
              "</style>\n",
              "<table border=\"1\" class=\"dataframe\">\n",
              "  <thead>\n",
              "    <tr style=\"text-align: right;\">\n",
              "      <th></th>\n",
              "      <th>class</th>\n",
              "      <th>tweet</th>\n",
              "    </tr>\n",
              "  </thead>\n",
              "  <tbody>\n",
              "    <tr>\n",
              "      <th>21589</th>\n",
              "      <td>0</td>\n",
              "      <td>The nations know who we are, but we rather be ...</td>\n",
              "    </tr>\n",
              "    <tr>\n",
              "      <th>5360</th>\n",
              "      <td>0</td>\n",
              "      <td>@_TurnDownDre @Jordan__Grimes @kushdaddycorr @...</td>\n",
              "    </tr>\n",
              "    <tr>\n",
              "      <th>9276</th>\n",
              "      <td>0</td>\n",
              "      <td>Fuck that niggah he so weak, he cant tell that...</td>\n",
              "    </tr>\n",
              "    <tr>\n",
              "      <th>21557</th>\n",
              "      <td>0</td>\n",
              "      <td>The fucking Royals bitch! Work!</td>\n",
              "    </tr>\n",
              "    <tr>\n",
              "      <th>12858</th>\n",
              "      <td>0</td>\n",
              "      <td>Minus all the retarded poor bots.</td>\n",
              "    </tr>\n",
              "  </tbody>\n",
              "</table>\n",
              "</div>\n",
              "      <button class=\"colab-df-convert\" onclick=\"convertToInteractive('df-8ed033a7-a5c1-4d27-802a-fb500f79bcf3')\"\n",
              "              title=\"Convert this dataframe to an interactive table.\"\n",
              "              style=\"display:none;\">\n",
              "        \n",
              "  <svg xmlns=\"http://www.w3.org/2000/svg\" height=\"24px\"viewBox=\"0 0 24 24\"\n",
              "       width=\"24px\">\n",
              "    <path d=\"M0 0h24v24H0V0z\" fill=\"none\"/>\n",
              "    <path d=\"M18.56 5.44l.94 2.06.94-2.06 2.06-.94-2.06-.94-.94-2.06-.94 2.06-2.06.94zm-11 1L8.5 8.5l.94-2.06 2.06-.94-2.06-.94L8.5 2.5l-.94 2.06-2.06.94zm10 10l.94 2.06.94-2.06 2.06-.94-2.06-.94-.94-2.06-.94 2.06-2.06.94z\"/><path d=\"M17.41 7.96l-1.37-1.37c-.4-.4-.92-.59-1.43-.59-.52 0-1.04.2-1.43.59L10.3 9.45l-7.72 7.72c-.78.78-.78 2.05 0 2.83L4 21.41c.39.39.9.59 1.41.59.51 0 1.02-.2 1.41-.59l7.78-7.78 2.81-2.81c.8-.78.8-2.07 0-2.86zM5.41 20L4 18.59l7.72-7.72 1.47 1.35L5.41 20z\"/>\n",
              "  </svg>\n",
              "      </button>\n",
              "      \n",
              "  <style>\n",
              "    .colab-df-container {\n",
              "      display:flex;\n",
              "      flex-wrap:wrap;\n",
              "      gap: 12px;\n",
              "    }\n",
              "\n",
              "    .colab-df-convert {\n",
              "      background-color: #E8F0FE;\n",
              "      border: none;\n",
              "      border-radius: 50%;\n",
              "      cursor: pointer;\n",
              "      display: none;\n",
              "      fill: #1967D2;\n",
              "      height: 32px;\n",
              "      padding: 0 0 0 0;\n",
              "      width: 32px;\n",
              "    }\n",
              "\n",
              "    .colab-df-convert:hover {\n",
              "      background-color: #E2EBFA;\n",
              "      box-shadow: 0px 1px 2px rgba(60, 64, 67, 0.3), 0px 1px 3px 1px rgba(60, 64, 67, 0.15);\n",
              "      fill: #174EA6;\n",
              "    }\n",
              "\n",
              "    [theme=dark] .colab-df-convert {\n",
              "      background-color: #3B4455;\n",
              "      fill: #D2E3FC;\n",
              "    }\n",
              "\n",
              "    [theme=dark] .colab-df-convert:hover {\n",
              "      background-color: #434B5C;\n",
              "      box-shadow: 0px 1px 3px 1px rgba(0, 0, 0, 0.15);\n",
              "      filter: drop-shadow(0px 1px 2px rgba(0, 0, 0, 0.3));\n",
              "      fill: #FFFFFF;\n",
              "    }\n",
              "  </style>\n",
              "\n",
              "      <script>\n",
              "        const buttonEl =\n",
              "          document.querySelector('#df-8ed033a7-a5c1-4d27-802a-fb500f79bcf3 button.colab-df-convert');\n",
              "        buttonEl.style.display =\n",
              "          google.colab.kernel.accessAllowed ? 'block' : 'none';\n",
              "\n",
              "        async function convertToInteractive(key) {\n",
              "          const element = document.querySelector('#df-8ed033a7-a5c1-4d27-802a-fb500f79bcf3');\n",
              "          const dataTable =\n",
              "            await google.colab.kernel.invokeFunction('convertToInteractive',\n",
              "                                                     [key], {});\n",
              "          if (!dataTable) return;\n",
              "\n",
              "          const docLinkHtml = 'Like what you see? Visit the ' +\n",
              "            '<a target=\"_blank\" href=https://colab.research.google.com/notebooks/data_table.ipynb>data table notebook</a>'\n",
              "            + ' to learn more about interactive tables.';\n",
              "          element.innerHTML = '';\n",
              "          dataTable['output_type'] = 'display_data';\n",
              "          await google.colab.output.renderOutput(dataTable, element);\n",
              "          const docLink = document.createElement('div');\n",
              "          docLink.innerHTML = docLinkHtml;\n",
              "          element.appendChild(docLink);\n",
              "        }\n",
              "      </script>\n",
              "    </div>\n",
              "  </div>\n",
              "  "
            ],
            "text/plain": [
              "       class                                              tweet\n",
              "21589      0  The nations know who we are, but we rather be ...\n",
              "5360       0  @_TurnDownDre @Jordan__Grimes @kushdaddycorr @...\n",
              "9276       0  Fuck that niggah he so weak, he cant tell that...\n",
              "21557      0                    The fucking Royals bitch! Work!\n",
              "12858      0                  Minus all the retarded poor bots."
            ]
          },
          "metadata": {},
          "execution_count": 45
        }
      ]
    },
    {
      "cell_type": "code",
      "metadata": {
        "id": "fbd7f759"
      },
      "source": [
        "# Training models with this data"
      ],
      "id": "fbd7f759",
      "execution_count": 46,
      "outputs": []
    },
    {
      "cell_type": "code",
      "metadata": {
        "id": "1d9a5a6a"
      },
      "source": [
        "c_train = preprocessing(df_under['tweet'].values)\n",
        "c_val = preprocessing(df_val['tweet'].values)"
      ],
      "id": "1d9a5a6a",
      "execution_count": 47,
      "outputs": []
    },
    {
      "cell_type": "code",
      "metadata": {
        "colab": {
          "base_uri": "https://localhost:8080/"
        },
        "id": "72438bcd",
        "outputId": "b5825c11-fc6f-4bf9-9d83-5c90351bd741"
      },
      "source": [
        "X_train = tokenize(c_train, 1)\n",
        "X_val = tokenize(c_val, 0)\n",
        "y_train = df_under['class'].values\n",
        "y_val = df_val['class'].values\n",
        "X_train.shape, X_val.shape"
      ],
      "id": "72438bcd",
      "execution_count": 48,
      "outputs": [
        {
          "output_type": "execute_result",
          "data": {
            "text/plain": [
              "((3474, 1010), (2231, 1010))"
            ]
          },
          "metadata": {},
          "execution_count": 48
        }
      ]
    },
    {
      "cell_type": "code",
      "metadata": {
        "id": "726bbb84"
      },
      "source": [
        "# Logistic Regression\n",
        "model_under = LogisticRegression(multi_class = 'ovr', solver = 'liblinear', random_state = 0)\n",
        "model_under.fit(X_train, y_train.ravel())\n",
        "y_pred = model_under.predict(X_val)"
      ],
      "id": "726bbb84",
      "execution_count": 49,
      "outputs": []
    },
    {
      "cell_type": "code",
      "metadata": {
        "colab": {
          "base_uri": "https://localhost:8080/",
          "height": 350
        },
        "id": "a3454788",
        "outputId": "36ee3907-ecd3-44e5-b3a1-1050324abd25"
      },
      "source": [
        "set_confusion_matrix(model_under, X_val, y_val, type(model_under).__name__)"
      ],
      "id": "a3454788",
      "execution_count": 50,
      "outputs": [
        {
          "output_type": "stream",
          "name": "stderr",
          "text": [
            "/usr/local/lib/python3.7/dist-packages/sklearn/utils/deprecation.py:87: FutureWarning: Function plot_confusion_matrix is deprecated; Function `plot_confusion_matrix` is deprecated in 1.0 and will be removed in 1.2. Use one of the class methods: ConfusionMatrixDisplay.from_predictions or ConfusionMatrixDisplay.from_estimator.\n",
            "  warnings.warn(msg, category=FutureWarning)\n"
          ]
        },
        {
          "output_type": "display_data",
          "data": {
            "image/png": "[encoded data removed]",
            "text/plain": [
              "<Figure size 432x288 with 2 Axes>"
            ]
          },
          "metadata": {
            "needs_background": "light"
          }
        }
      ]
    },
    {
      "cell_type": "code",
      "metadata": {
        "colab": {
          "base_uri": "https://localhost:8080/"
        },
        "id": "a89fdc53",
        "outputId": "f8dc345a-8df1-4a27-bc3d-43420f0aa075"
      },
      "source": [
        "target_names = ['class 0', 'class 1', 'class 2']\n",
        "print(classification_report(y_val, y_pred, target_names=target_names))"
      ],
      "id": "a89fdc53",
      "execution_count": 51,
      "outputs": [
        {
          "output_type": "stream",
          "name": "stdout",
          "text": [
            "              precision    recall  f1-score   support\n",
            "\n",
            "     class 0       0.23      0.74      0.35       129\n",
            "     class 1       0.98      0.77      0.86      1727\n",
            "     class 2       0.78      0.94      0.85       375\n",
            "\n",
            "    accuracy                           0.80      2231\n",
            "   macro avg       0.66      0.82      0.69      2231\n",
            "weighted avg       0.90      0.80      0.83      2231\n",
            "\n"
          ]
        }
      ]
    },
    {
      "cell_type": "code",
      "metadata": {
        "id": "VgyeWo-6Vjd9"
      },
      "source": [
        ""
      ],
      "id": "VgyeWo-6Vjd9",
      "execution_count": 51,
      "outputs": []
    },
    {
      "cell_type": "code",
      "metadata": {
        "colab": {
          "base_uri": "https://localhost:8080/"
        },
        "id": "4Aq9LNhSVkMe",
        "outputId": "56fb942c-c05a-4180-8a73-79abca26a013"
      },
      "source": [
        "# Naive Bayes\n",
        "from sklearn.naive_bayes import GaussianNB\n",
        "gnb = GaussianNB()\n",
        "y_pred = gnb.fit(X_train, y_train.ravel()).predict(X_val)\n",
        "print(\"Number of mislabeled points out of a total %d points : %d\" % (X_val.shape[0], (y_val != y_pred.ravel()).sum()))\n",
        "print(classification_report(y_val, y_pred, target_names=target_names))"
      ],
      "id": "4Aq9LNhSVkMe",
      "execution_count": 52,
      "outputs": [
        {
          "output_type": "stream",
          "name": "stdout",
          "text": [
            "Number of mislabeled points out of a total 2231 points : 589\n",
            "              precision    recall  f1-score   support\n",
            "\n",
            "     class 0       0.11      0.28      0.16       129\n",
            "     class 1       0.85      0.85      0.85      1727\n",
            "     class 2       0.76      0.37      0.50       375\n",
            "\n",
            "    accuracy                           0.74      2231\n",
            "   macro avg       0.57      0.50      0.50      2231\n",
            "weighted avg       0.79      0.74      0.75      2231\n",
            "\n"
          ]
        }
      ]
    },
    {
      "cell_type": "code",
      "metadata": {
        "colab": {
          "base_uri": "https://localhost:8080/"
        },
        "id": "5W5WAaO2VkMg",
        "outputId": "0b108681-19be-4299-83ff-66da72d05b6b"
      },
      "source": [
        "# Decision Tree\n",
        "from sklearn import tree\n",
        "clf = tree.DecisionTreeClassifier()\n",
        "y_pred = clf.fit(X_train, y_train.ravel()).predict(X_val)\n",
        "print(\"Number of mislabeled points out of a total %d points : %d\" % (X_val.shape[0], (y_val != y_pred.ravel()).sum()))\n",
        "print(classification_report(y_val, y_pred, target_names=target_names))"
      ],
      "id": "5W5WAaO2VkMg",
      "execution_count": 53,
      "outputs": [
        {
          "output_type": "stream",
          "name": "stdout",
          "text": [
            "Number of mislabeled points out of a total 2231 points : 562\n",
            "              precision    recall  f1-score   support\n",
            "\n",
            "     class 0       0.19      0.78      0.30       129\n",
            "     class 1       0.98      0.72      0.83      1727\n",
            "     class 2       0.78      0.88      0.82       375\n",
            "\n",
            "    accuracy                           0.75      2231\n",
            "   macro avg       0.65      0.79      0.65      2231\n",
            "weighted avg       0.90      0.75      0.80      2231\n",
            "\n"
          ]
        }
      ]
    },
    {
      "cell_type": "code",
      "metadata": {
        "colab": {
          "base_uri": "https://localhost:8080/"
        },
        "id": "0NWMqUFcVkMh",
        "outputId": "cd78982a-acbe-46b3-fa24-30361546b336"
      },
      "source": [
        "# Random Forest\n",
        "\n",
        "from sklearn.ensemble import RandomForestClassifier\n",
        "clf = RandomForestClassifier(max_depth=2, random_state=0)\n",
        "y_pred = clf.fit(X_train, y_train).predict(X_val)\n",
        "print(\"Number of mislabeled points out of a total %d points : %d\" % (X_val.shape[0], (y_val != y_pred.ravel()).sum()))\n",
        "print(classification_report(y_val, y_pred, target_names=target_names))"
      ],
      "id": "0NWMqUFcVkMh",
      "execution_count": 54,
      "outputs": [
        {
          "output_type": "stream",
          "name": "stdout",
          "text": [
            "Number of mislabeled points out of a total 2231 points : 376\n",
            "              precision    recall  f1-score   support\n",
            "\n",
            "     class 0       0.37      0.60      0.46       129\n",
            "     class 1       0.98      0.82      0.89      1727\n",
            "     class 2       0.63      0.98      0.77       375\n",
            "\n",
            "    accuracy                           0.83      2231\n",
            "   macro avg       0.66      0.80      0.71      2231\n",
            "weighted avg       0.89      0.83      0.85      2231\n",
            "\n"
          ]
        }
      ]
    },
    {
      "cell_type": "code",
      "metadata": {
        "id": "lrHoNNweVkMi",
        "colab": {
          "base_uri": "https://localhost:8080/"
        },
        "outputId": "37ce74cf-8501-483a-ca94-e29f2e6585d2"
      },
      "source": [
        "# Gradient Boosting\n",
        "from sklearn.ensemble import GradientBoostingClassifier\n",
        "y_pred = GradientBoostingClassifier(n_estimators=100, learning_rate=1.0, \n",
        "                                 max_depth=1, random_state=0).fit(X_train, y_train).predict(X_val)\n",
        "clf.score(X_val, y_val)"
      ],
      "id": "lrHoNNweVkMi",
      "execution_count": 55,
      "outputs": [
        {
          "output_type": "execute_result",
          "data": {
            "text/plain": [
              "0.8314657104437472"
            ]
          },
          "metadata": {},
          "execution_count": 55
        }
      ]
    },
    {
      "cell_type": "markdown",
      "metadata": {
        "id": "5bc148f6"
      },
      "source": [
        "OVERSAMPLING"
      ],
      "id": "5bc148f6"
    },
    {
      "cell_type": "code",
      "metadata": {
        "colab": {
          "base_uri": "https://localhost:8080/"
        },
        "id": "39bedfb8",
        "outputId": "d2e5461f-550a-4f58-fe1e-8bce62a734bc"
      },
      "source": [
        "n_off, n_none, n_hate = df_train['class'].value_counts()\n",
        "n_hate, n_off, n_none"
      ],
      "id": "39bedfb8",
      "execution_count": 56,
      "outputs": [
        {
          "output_type": "execute_result",
          "data": {
            "text/plain": [
              "(1158, 15543, 3372)"
            ]
          },
          "metadata": {},
          "execution_count": 56
        }
      ]
    },
    {
      "cell_type": "code",
      "metadata": {
        "colab": {
          "base_uri": "https://localhost:8080/"
        },
        "id": "16fcc326",
        "outputId": "bf36bc58-1352-49c3-897b-b6408f0d9d11"
      },
      "source": [
        "df_hate_over = df_hate.sample(n_off, replace=True, random_state = 0)\n",
        "df_none_over = df_none.sample(n_off, replace=True, random_state = 0)\n",
        "df_over = pd.concat([df_off, df_hate_over, df_none_over], axis = 0)\n",
        "print(f\"Random over sampling:\\n {df_over['class'].value_counts()}\")"
      ],
      "id": "16fcc326",
      "execution_count": 57,
      "outputs": [
        {
          "output_type": "stream",
          "name": "stdout",
          "text": [
            "Random over sampling:\n",
            " 1    15543\n",
            "0    15543\n",
            "2    15543\n",
            "Name: class, dtype: int64\n"
          ]
        }
      ]
    },
    {
      "cell_type": "code",
      "metadata": {
        "colab": {
          "base_uri": "https://localhost:8080/"
        },
        "id": "e8854ce6",
        "outputId": "fd0b7158-ca72-46b2-9406-7eb173032a40"
      },
      "source": [
        "c_train = preprocessing(df_over['tweet'].values)\n",
        "c_val = preprocessing(df_val['tweet'].values)\n",
        "X_train = tokenize(c_train, 1)\n",
        "X_val = tokenize(c_val, 0)\n",
        "y_train = df_over['class'].values\n",
        "y_val = df_val['class'].values\n",
        "X_train.shape, X_val.shape"
      ],
      "id": "e8854ce6",
      "execution_count": 58,
      "outputs": [
        {
          "output_type": "execute_result",
          "data": {
            "text/plain": [
              "((46629, 1010), (2231, 1010))"
            ]
          },
          "metadata": {},
          "execution_count": 58
        }
      ]
    },
    {
      "cell_type": "code",
      "metadata": {
        "id": "0b4e5d52"
      },
      "source": [
        "# Logistic Regression\n",
        "model_over = LogisticRegression(multi_class = 'ovr', solver = 'liblinear', random_state = 0)\n",
        "model_over.fit(X_train,y_train.ravel())\n",
        "y_pred = model_over.predict(X_val)"
      ],
      "id": "0b4e5d52",
      "execution_count": 59,
      "outputs": []
    },
    {
      "cell_type": "code",
      "metadata": {
        "colab": {
          "base_uri": "https://localhost:8080/",
          "height": 523
        },
        "id": "fdc07e25",
        "outputId": "87e1f608-3399-4ece-add2-7e40f602acbd"
      },
      "source": [
        "set_confusion_matrix(model_over, X_val, y_val, type(model_over).__name__)\n",
        "target_names = ['class 0', 'class 1', 'class 2']\n",
        "print(classification_report(y_val, y_pred, target_names=target_names))"
      ],
      "id": "fdc07e25",
      "execution_count": 60,
      "outputs": [
        {
          "output_type": "stream",
          "name": "stderr",
          "text": [
            "/usr/local/lib/python3.7/dist-packages/sklearn/utils/deprecation.py:87: FutureWarning: Function plot_confusion_matrix is deprecated; Function `plot_confusion_matrix` is deprecated in 1.0 and will be removed in 1.2. Use one of the class methods: ConfusionMatrixDisplay.from_predictions or ConfusionMatrixDisplay.from_estimator.\n",
            "  warnings.warn(msg, category=FutureWarning)\n"
          ]
        },
        {
          "output_type": "display_data",
          "data": {
            "image/png": "[encoded data removed]",
            "text/plain": [
              "<Figure size 432x288 with 2 Axes>"
            ]
          },
          "metadata": {
            "needs_background": "light"
          }
        },
        {
          "output_type": "stream",
          "name": "stdout",
          "text": [
            "              precision    recall  f1-score   support\n",
            "\n",
            "     class 0       0.28      0.71      0.40       129\n",
            "     class 1       0.98      0.82      0.89      1727\n",
            "     class 2       0.79      0.95      0.86       375\n",
            "\n",
            "    accuracy                           0.84      2231\n",
            "   macro avg       0.68      0.83      0.72      2231\n",
            "weighted avg       0.90      0.84      0.86      2231\n",
            "\n"
          ]
        }
      ]
    },
    {
      "cell_type": "code",
      "metadata": {
        "colab": {
          "base_uri": "https://localhost:8080/"
        },
        "id": "jiCaS9zlQ5qL",
        "outputId": "3bf6874c-9fb6-422f-a8c5-b44b06f57ab6"
      },
      "source": [
        "# Naive Bayes\n",
        "from sklearn.naive_bayes import GaussianNB\n",
        "gnb = GaussianNB()\n",
        "y_pred = gnb.fit(X_train, y_train.ravel()).predict(X_val)\n",
        "print(\"Number of mislabeled points out of a total %d points : %d\" % (X_val.shape[0], (y_val != y_pred.ravel()).sum()))\n",
        "print(classification_report(y_val, y_pred, target_names=target_names))"
      ],
      "id": "jiCaS9zlQ5qL",
      "execution_count": 61,
      "outputs": [
        {
          "output_type": "stream",
          "name": "stdout",
          "text": [
            "Number of mislabeled points out of a total 2231 points : 1662\n",
            "              precision    recall  f1-score   support\n",
            "\n",
            "     class 0       0.07      0.89      0.13       129\n",
            "     class 1       0.92      0.15      0.26      1727\n",
            "     class 2       0.76      0.53      0.62       375\n",
            "\n",
            "    accuracy                           0.26      2231\n",
            "   macro avg       0.58      0.52      0.34      2231\n",
            "weighted avg       0.84      0.26      0.31      2231\n",
            "\n"
          ]
        }
      ]
    },
    {
      "cell_type": "code",
      "metadata": {
        "colab": {
          "base_uri": "https://localhost:8080/"
        },
        "id": "JAO7JuzYRu6E",
        "outputId": "762b292f-7a0c-4b2b-9c74-9441c432fd9b"
      },
      "source": [
        "# Decision Tree\n",
        "from sklearn import tree\n",
        "clf = tree.DecisionTreeClassifier()\n",
        "y_pred = clf.fit(X_train, y_train.ravel()).predict(X_val)\n",
        "print(\"Number of mislabeled points out of a total %d points : %d\" % (X_val.shape[0], (y_val != y_pred.ravel()).sum()))\n",
        "print(classification_report(y_val, y_pred, target_names=target_names))"
      ],
      "id": "JAO7JuzYRu6E",
      "execution_count": 62,
      "outputs": [
        {
          "output_type": "stream",
          "name": "stdout",
          "text": [
            "Number of mislabeled points out of a total 2231 points : 332\n",
            "              precision    recall  f1-score   support\n",
            "\n",
            "     class 0       0.28      0.48      0.35       129\n",
            "     class 1       0.94      0.88      0.91      1727\n",
            "     class 2       0.81      0.86      0.84       375\n",
            "\n",
            "    accuracy                           0.85      2231\n",
            "   macro avg       0.68      0.74      0.70      2231\n",
            "weighted avg       0.88      0.85      0.86      2231\n",
            "\n"
          ]
        }
      ]
    },
    {
      "cell_type": "code",
      "metadata": {
        "colab": {
          "base_uri": "https://localhost:8080/"
        },
        "id": "QS7Mk25-SvOG",
        "outputId": "c3e795d7-2dc0-4071-8522-54c76fc2e89f"
      },
      "source": [
        "# Random Forest\n",
        "from sklearn.ensemble import RandomForestClassifier\n",
        "clf = RandomForestClassifier(max_depth=2, random_state=0)\n",
        "y_pred = clf.fit(X_train, y_train).predict(X_val)\n",
        "print(\"Number of mislabeled points out of a total %d points : %d\" % (X_val.shape[0], (y_val != y_pred.ravel()).sum()))\n",
        "print(classification_report(y_val, y_pred, target_names=target_names))"
      ],
      "id": "QS7Mk25-SvOG",
      "execution_count": 63,
      "outputs": [
        {
          "output_type": "stream",
          "name": "stdout",
          "text": [
            "Number of mislabeled points out of a total 2231 points : 388\n",
            "              precision    recall  f1-score   support\n",
            "\n",
            "     class 0       0.36      0.59      0.45       129\n",
            "     class 1       0.98      0.81      0.89      1727\n",
            "     class 2       0.62      0.98      0.76       375\n",
            "\n",
            "    accuracy                           0.83      2231\n",
            "   macro avg       0.65      0.79      0.70      2231\n",
            "weighted avg       0.88      0.83      0.84      2231\n",
            "\n"
          ]
        }
      ]
    },
    {
      "cell_type": "code",
      "metadata": {
        "id": "l8XaCEatUCjE",
        "colab": {
          "base_uri": "https://localhost:8080/"
        },
        "outputId": "fe0e83e7-6349-46e2-8c1e-2fbd9d02534b"
      },
      "source": [
        "# Gradient Boosting\n",
        "from sklearn.ensemble import GradientBoostingClassifier\n",
        "y_pred = GradientBoostingClassifier(n_estimators=100, learning_rate=1.0, \n",
        "                                 max_depth=1, random_state=0).fit(X_train, y_train).predict(X_val)\n",
        "clf.score(X_val, y_val)"
      ],
      "id": "l8XaCEatUCjE",
      "execution_count": 64,
      "outputs": [
        {
          "output_type": "execute_result",
          "data": {
            "text/plain": [
              "0.8260869565217391"
            ]
          },
          "metadata": {},
          "execution_count": 64
        }
      ]
    },
    {
      "cell_type": "markdown",
      "metadata": {
        "id": "81041aff"
      },
      "source": [
        "Oversampling resulted in better results, increasing accuracy from 0.45 to 0.86. We acheived a lower overall f1-score compared to training without data augmentation.\n",
        "The balance of results leads us to prefer this solution. \n"
      ],
      "id": "81041aff"
    },
    {
      "cell_type": "markdown",
      "metadata": {
        "id": "6a127e6c"
      },
      "source": [
        "### Prediction of test data"
      ],
      "id": "6a127e6c"
    },
    {
      "cell_type": "code",
      "metadata": {
        "colab": {
          "base_uri": "https://localhost:8080/"
        },
        "id": "39f473f1",
        "outputId": "459f2034-1ffd-4d42-c952-cfa7aa0ef45f"
      },
      "source": [
        "c_test = preprocessing(df_test['tweet'].values)\n",
        "c_test.shape"
      ],
      "id": "39f473f1",
      "execution_count": 65,
      "outputs": [
        {
          "output_type": "execute_result",
          "data": {
            "text/plain": [
              "(2479,)"
            ]
          },
          "metadata": {},
          "execution_count": 65
        }
      ]
    },
    {
      "cell_type": "code",
      "metadata": {
        "id": "4338c191",
        "colab": {
          "base_uri": "https://localhost:8080/"
        },
        "outputId": "7cc3da33-9769-4a00-d075-4a10c89e104d"
      },
      "source": [
        "X_test = tokenize(c_test,0)\n",
        "y_test = df_test['class']\n",
        "X_test.shape, y_test.shape"
      ],
      "id": "4338c191",
      "execution_count": 66,
      "outputs": [
        {
          "output_type": "execute_result",
          "data": {
            "text/plain": [
              "((2479, 1010), (2479,))"
            ]
          },
          "metadata": {},
          "execution_count": 66
        }
      ]
    },
    {
      "cell_type": "code",
      "metadata": {
        "id": "e38856c2",
        "colab": {
          "base_uri": "https://localhost:8080/",
          "height": 523
        },
        "outputId": "d70d5ec8-cd0e-4550-f6ac-7775ee112dc2"
      },
      "source": [
        "y_pred = model_over.predict(X_test)\n",
        "set_confusion_matrix(model_over, X_test, y_test, type(model_over).__name__)\n",
        "target_names = ['class 0', 'class 1', 'class 2']\n",
        "print(classification_report(y_test, y_pred, target_names = target_names))"
      ],
      "id": "e38856c2",
      "execution_count": 67,
      "outputs": [
        {
          "output_type": "stream",
          "name": "stderr",
          "text": [
            "/usr/local/lib/python3.7/dist-packages/sklearn/utils/deprecation.py:87: FutureWarning: Function plot_confusion_matrix is deprecated; Function `plot_confusion_matrix` is deprecated in 1.0 and will be removed in 1.2. Use one of the class methods: ConfusionMatrixDisplay.from_predictions or ConfusionMatrixDisplay.from_estimator.\n",
            "  warnings.warn(msg, category=FutureWarning)\n"
          ]
        },
        {
          "output_type": "display_data",
          "data": {
            "image/png": "[encoded data removed]",
            "text/plain": [
              "<Figure size 432x288 with 2 Axes>"
            ]
          },
          "metadata": {
            "needs_background": "light"
          }
        },
        {
          "output_type": "stream",
          "name": "stdout",
          "text": [
            "              precision    recall  f1-score   support\n",
            "\n",
            "     class 0       0.26      0.65      0.38       143\n",
            "     class 1       0.97      0.83      0.90      1920\n",
            "     class 2       0.81      0.94      0.87       416\n",
            "\n",
            "    accuracy                           0.84      2479\n",
            "   macro avg       0.68      0.81      0.71      2479\n",
            "weighted avg       0.90      0.84      0.86      2479\n",
            "\n"
          ]
        }
      ]
    }
  ]
}